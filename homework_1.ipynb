{
 "cells": [
  {
   "cell_type": "markdown",
   "id": "f3a26862",
   "metadata": {},
   "source": [
    "# Домашняя работа 1.\n",
    "Дедлайн - 26 февраля 23:59 по МСК (GMT+3).\n",
    "\n",
    "Сдавать в [классрум](https://classroom.google.com/c/NjYxNjY4MjY3NDIw?cjc=pho754c)"
   ]
  },
  {
   "cell_type": "markdown",
   "id": "588e98c7",
   "metadata": {},
   "source": [
    "## Задача 1. (3 балла)\n",
    "Реализуйте метод решения системы линейных уравнений при помощи метода Гаусса, LU-разложения.\n",
    "Используя функцию для генерации случайной системы линейных уравнений, протестируйте написанную Вами программу. \n",
    "\n",
    "Данная функция генерирует матрицу системы $A$, правую часть $y$ и решение $x$:\n",
    "$$\n",
    "Ax = y\n",
    "$$\n",
    "для любой наперед заданной размерности линейного пространства $n$.\n",
    "\n",
    "Рассмотрите случаи $n = 10, 30, 100, 300, 1000$. Для нескольких реализаций $m$, например, $m = 10, A_i , x_i , y_i$ для $i = 1, ..., m$ решите систему уравнений при помощи\n",
    "написанной Вами программы. Для каждой реализации вычислите ошибку:\n",
    "$$\n",
    "r_i = \\max_j|x_{i, j} - x_{i, j}^*|\n",
    "$$\n",
    "Здесь $x_i = [x_{i, 1}, ..., x_{i, n}]^\\top$ - решение системы линейных уравнений, $x_i^*=[x_{i, 1}^*, ..., x_{i, n}^*]^\\top$ - численное решение системы линейных уравнений.\n",
    "\n",
    "Для каждого значения размерности $n$ вычислите максимальную ошибку по всем\n",
    "реализациям систем линейных уравнений:\n",
    "$$\n",
    "R(n) = \\max_{i=1,..., m}(r_i)\n",
    "$$\n",
    "Постройте таблицу значений $n$ и $R(n)$ (или просто выведите на экран).\n",
    "Рассмотрите случаи $n = 10, 30, 100, 300, 1000$. Постройте график (в логарифмическом масштабе) $t = t(n)$ - время решения системы линейных уравнений как функция\n",
    "размерности."
   ]
  },
  {
   "cell_type": "code",
   "execution_count": 35,
   "id": "2eb87e30",
   "metadata": {},
   "outputs": [],
   "source": [
    "import numpy as np\n",
    "import matplotlib\n",
    "matplotlib.rcParams['image.cmap'] = 'jet'\n",
    "import matplotlib.pyplot as plt\n",
    "from numba import jit\n",
    "import time"
   ]
  },
  {
   "cell_type": "markdown",
   "id": "ccbc7a12",
   "metadata": {},
   "source": [
    "### СЛУ Генератор"
   ]
  },
  {
   "cell_type": "code",
   "execution_count": 10,
   "id": "1692a428",
   "metadata": {},
   "outputs": [],
   "source": [
    "def generate_l_matrix(n):\n",
    "    eps = 2.0e+0\n",
    "    lmat = np.zeros((n, n))\n",
    "    lmat = np.random.normal(0.0, 5.0e-1, (n, n))\n",
    "    for i0 in range(n):\n",
    "        lmat[i0, i0] = np.absolute(lmat[i0, i0]) + eps\n",
    "        for i1 in range(i0 + 1, n):\n",
    "            lmat[i0, i1] = 0.0\n",
    "    return lmat\n",
    "\n",
    "def generate_u_matrix(n):\n",
    "    return np.transpose(generate_l_matrix(n))\n",
    "\n",
    "def generate_sle(n):\n",
    "    A = np.dot(generate_l_matrix(n), generate_u_matrix(n))\n",
    "    x = np.random.normal(0.0, 1.0, n)\n",
    "    y = np.dot(A, x)\n",
    "    return A, y, x"
   ]
  },
  {
   "cell_type": "markdown",
   "id": "8660047c",
   "metadata": {},
   "source": [
    "### Метод Гаусса"
   ]
  },
  {
   "cell_type": "code",
   "execution_count": 23,
   "id": "a5f080cc",
   "metadata": {},
   "outputs": [],
   "source": [
    "def gauss_method(A, y):\n",
    "    n = len(y)\n",
    "    matrix = np.column_stack((A, y))\n",
    "\n",
    "    for i in range(n):\n",
    "        pivot_row = matrix[i]\n",
    "        for j in range(i + 1, n):\n",
    "            factor = matrix[j][i] / pivot_row[i]\n",
    "            matrix[j] -= factor * pivot_row\n",
    "\n",
    "    x = np.zeros(n)\n",
    "    for i in range(n - 1, -1, -1):\n",
    "        x[i] = matrix[i][-1] / matrix[i][i]\n",
    "        matrix[:i, -1] -= matrix[:i, i] * x[i]\n",
    "\n",
    "    return x"
   ]
  },
  {
   "cell_type": "markdown",
   "id": "c3d61847",
   "metadata": {},
   "source": [
    "### LU-Разложение"
   ]
  },
  {
   "cell_type": "code",
   "execution_count": 41,
   "id": "c1b82b6e",
   "metadata": {},
   "outputs": [],
   "source": [
    "@jit(nopython=True, fastmath=True)\n",
    "def compute_lu_factorization(amat):\n",
    "    n = amat.shape[0]\n",
    "    lmat = np.zeros((n, n))\n",
    "    umat = np.eye(n)\n",
    "    for idx_row in range(n):\n",
    "        for idx_col in range(idx_row + 1):\n",
    "            lmat[idx_row, idx_col] = (amat[idx_row, idx_col] - np.dot(lmat[idx_row, :idx_col], umat[:idx_col, idx_col])) / umat[idx_col, idx_col]\n",
    "        for idx_col in range(idx_row + 1, n):\n",
    "            umat[idx_row, idx_col] = (amat[idx_row, idx_col] - np.dot(lmat[idx_row, :idx_row], umat[:idx_row, idx_col])) / lmat[idx_row, idx_row]\n",
    "    return (lmat, umat)\n",
    "\n",
    "@jit(nopython=True, fastmath=True)\n",
    "def solve_l_system(lmat, y):\n",
    "    n = y.size\n",
    "    x = np.zeros((n))\n",
    "    for idx in range(n):\n",
    "        x[idx] = (y[idx] - np.dot(lmat[idx, :idx], x[:idx])) / lmat[idx, idx]\n",
    "    return x\n",
    "\n",
    "@jit(nopython=True, fastmath=True)\n",
    "def solve_u_system(umat, y):\n",
    "    n = y.size\n",
    "    x = np.zeros((n))\n",
    "    for idx in range(n):\n",
    "        k = n - 1 - idx\n",
    "        x[k] = (y[k] - np.dot(umat[k, (k + 1):], x[(k + 1):])) / umat[k, k]\n",
    "    return x\n",
    "\n",
    "def lu_method(A, y):\n",
    "    lmat, umat = compute_lu_factorization(A)\n",
    "    zvec = solve_l_system(lmat, y)\n",
    "    xvec = solve_u_system(umat, zvec)\n",
    "    return xvec"
   ]
  },
  {
   "cell_type": "markdown",
   "id": "1b3fdbe4",
   "metadata": {},
   "source": [
    "### Тесты"
   ]
  },
  {
   "cell_type": "code",
   "execution_count": 39,
   "id": "407476d7",
   "metadata": {},
   "outputs": [
    {
     "name": "stdout",
     "output_type": "stream",
     "text": [
      "Размер СЛУ (n)  | Максимальная ошибка (R(n))\n",
      "10              | 1.3322676295501878e-15\n",
      "30              | 4.440892098500626e-15\n",
      "100             | 2.2071233729548112e-13\n",
      "300             | 4.592497196767575e-09\n",
      "1000            | 12133.104173710013\n"
     ]
    },
    {
     "data": {
      "image/png": "[encoded data removed]",
      "text/plain": [
       "<Figure size 720x432 with 1 Axes>"
      ]
     },
     "metadata": {
      "needs_background": "light"
     },
     "output_type": "display_data"
    }
   ],
   "source": [
    "# Функция для вычисления ошибки\n",
    "def compute_error(x, x_star):\n",
    "    return np.max(np.abs(x - x_star))\n",
    "\n",
    "# Функция для измерения времени выполнения метода\n",
    "def measure_time(method, A, y):\n",
    "    start_time = time.time()\n",
    "    x = method(A, y)\n",
    "    end_time = time.time()\n",
    "    return x, end_time - start_time\n",
    "\n",
    "sizes = [10, 30, 100, 300, 1000]\n",
    "m = 10\n",
    "\n",
    "max_errors = {}\n",
    "execution_times = {}\n",
    "\n",
    "for n in sizes:\n",
    "    errors = []\n",
    "    times = []\n",
    "    \n",
    "    for i in range(m):\n",
    "        A, y, x_star = generate_sle(n)\n",
    "        x, time_taken = measure_time(gauss_method, A.copy(), y.copy())\n",
    "        errors.append(compute_error(x, x_star))\n",
    "        times.append(time_taken)\n",
    "    \n",
    "    max_errors[n] = np.max(errors)\n",
    "    execution_times[n] = np.mean(times)\n",
    "\n",
    "# Выводим таблицу значений размера системы и максимальной ошибки\n",
    "print(\"Размер СЛУ (n)  | Максимальная ошибка (R(n))\")\n",
    "for n in sizes:\n",
    "    print(f\"{n:<15} | {max_errors[n]}\")\n",
    "\n",
    "# Строим график времени выполнения в логарифмическом масштабе\n",
    "plt.figure(figsize=(10, 6))\n",
    "plt.plot(sizes, list(execution_times.values()), marker='o')\n",
    "plt.title(\"Метод Гаусса\")\n",
    "plt.xlabel(\"Размер СЛУ (n x n)\")\n",
    "plt.ylabel(\"Время выполнения (секунды)\")\n",
    "plt.xscale('log')\n",
    "plt.yscale('log')\n",
    "plt.grid(True)\n",
    "plt.show()"
   ]
  },
  {
   "cell_type": "code",
   "execution_count": 42,
   "id": "cf249a85",
   "metadata": {},
   "outputs": [
    {
     "name": "stdout",
     "output_type": "stream",
     "text": [
      "Размер СЛУ (n)  | Максимальная ошибка (R(n))\n",
      "10              | 4.996003610813204e-16\n",
      "30              | 3.552713678800501e-15\n",
      "100             | 1.179889519420385e-13\n",
      "300             | 2.9753256525211214e-09\n",
      "1000            | 786.2064326861338\n"
     ]
    },
    {
     "data": {
      "image/png": "[encoded data removed]",
      "text/plain": [
       "<Figure size 720x432 with 1 Axes>"
      ]
     },
     "metadata": {
      "needs_background": "light"
     },
     "output_type": "display_data"
    }
   ],
   "source": [
    "# Функция для вычисления ошибки\n",
    "def compute_error(x, x_star):\n",
    "    return np.max(np.abs(x - x_star))\n",
    "\n",
    "# Функция для измерения времени выполнения метода\n",
    "def measure_time(method, A, y):\n",
    "    start_time = time.time()\n",
    "    x = method(A, y)\n",
    "    end_time = time.time()\n",
    "    return x, end_time - start_time\n",
    "\n",
    "sizes = [10, 30, 100, 300, 1000]\n",
    "m = 10\n",
    "\n",
    "max_errors = {}\n",
    "execution_times = {}\n",
    "\n",
    "for n in sizes:\n",
    "    errors = []\n",
    "    times = []\n",
    "    \n",
    "    for i in range(m):\n",
    "        A, y, x_star = generate_sle(n)\n",
    "        x, time_taken = measure_time(lu_method, A.copy(), y.copy())\n",
    "        errors.append(compute_error(x, x_star))\n",
    "        times.append(time_taken)\n",
    "    \n",
    "    max_errors[n] = np.max(errors)\n",
    "    execution_times[n] = np.mean(times)\n",
    "\n",
    "# Выводим таблицу значений размера системы и максимальной ошибки\n",
    "print(\"Размер СЛУ (n)  | Максимальная ошибка (R(n))\")\n",
    "for n in sizes:\n",
    "    print(f\"{n:<15} | {max_errors[n]}\")\n",
    "\n",
    "# Строим график времени выполнения в логарифмическом масштабе\n",
    "plt.figure(figsize=(10, 6))\n",
    "plt.plot(sizes, list(execution_times.values()), marker='o')\n",
    "plt.title(\"Метод LU-Разложения\")\n",
    "plt.xlabel(\"Размер СЛУ (n x n)\")\n",
    "plt.ylabel(\"Время выполнения (секунды)\")\n",
    "plt.xscale('log')\n",
    "plt.yscale('log')\n",
    "plt.grid(True)\n",
    "plt.show()"
   ]
  }
 ],
 "metadata": {
  "kernelspec": {
   "display_name": "Python 3 (ipykernel)",
   "language": "python",
   "name": "python3"
  },
  "language_info": {
   "codemirror_mode": {
    "name": "ipython",
    "version": 3
   },
   "file_extension": ".py",
   "mimetype": "text/x-python",
   "name": "python",
   "nbconvert_exporter": "python",
   "pygments_lexer": "ipython3",
   "version": "3.9.12"
  }
 },
 "nbformat": 4,
 "nbformat_minor": 5
}
